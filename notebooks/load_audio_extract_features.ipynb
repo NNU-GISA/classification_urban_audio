{
 "cells": [
  {
   "cell_type": "code",
   "execution_count": 73,
   "metadata": {},
   "outputs": [],
   "source": [
    "import numpy as np\n",
    "import librosa\n",
    "import os\n",
    "import glob\n",
    "import pandas as pd\n",
    "from tqdm import tqdm\n",
    "import pickle"
   ]
  },
  {
   "cell_type": "code",
   "execution_count": 2,
   "metadata": {},
   "outputs": [
    {
     "name": "stdout",
     "output_type": "stream",
     "text": [
      "Collecting librosa\n",
      "\u001b[?25l  Downloading https://files.pythonhosted.org/packages/09/b4/5b411f19de48f8fc1a0ff615555aa9124952e4156e94d4803377e50cfa4c/librosa-0.6.2.tar.gz (1.6MB)\n",
      "\u001b[K    100% |████████████████████████████████| 1.6MB 21.2MB/s ta 0:00:01\n",
      "\u001b[?25hCollecting audioread>=2.0.0 (from librosa)\n",
      "  Downloading https://files.pythonhosted.org/packages/f0/41/8cd160c6b2046b997d571a744a7f398f39e954a62dd747b2aae1ad7f07d4/audioread-2.1.6.tar.gz\n",
      "Requirement already satisfied: numpy>=1.8.0 in /home/ubuntu/anaconda3/lib/python3.7/site-packages (from librosa) (1.15.1)\n",
      "Requirement already satisfied: scipy>=0.14.0 in /home/ubuntu/anaconda3/lib/python3.7/site-packages (from librosa) (1.1.0)\n",
      "Requirement already satisfied: scikit-learn!=0.19.0,>=0.14.0 in /home/ubuntu/anaconda3/lib/python3.7/site-packages (from librosa) (0.19.2)\n",
      "Collecting joblib>=0.12 (from librosa)\n",
      "\u001b[?25l  Downloading https://files.pythonhosted.org/packages/49/d9/4ea194a4c1d0148f9446054b9135f47218c23ccc6f649aeb09fab4c0925c/joblib-0.13.1-py2.py3-none-any.whl (278kB)\n",
      "\u001b[K    100% |████████████████████████████████| 286kB 37.9MB/s ta 0:00:01\n",
      "\u001b[?25hRequirement already satisfied: decorator>=3.0.0 in /home/ubuntu/anaconda3/lib/python3.7/site-packages (from librosa) (4.3.0)\n",
      "Requirement already satisfied: six>=1.3 in /home/ubuntu/anaconda3/lib/python3.7/site-packages (from librosa) (1.11.0)\n",
      "Collecting resampy>=0.2.0 (from librosa)\n",
      "\u001b[?25l  Downloading https://files.pythonhosted.org/packages/14/b6/66a06d85474190b50aee1a6c09cdc95bb405ac47338b27e9b21409da1760/resampy-0.2.1.tar.gz (322kB)\n",
      "\u001b[K    100% |████████████████████████████████| 327kB 38.8MB/s ta 0:00:01\n",
      "\u001b[?25hRequirement already satisfied: numba>=0.38.0 in /home/ubuntu/anaconda3/lib/python3.7/site-packages (from librosa) (0.39.0)\n",
      "Requirement already satisfied: llvmlite>=0.24.0dev0 in /home/ubuntu/anaconda3/lib/python3.7/site-packages (from numba>=0.38.0->librosa) (0.24.0)\n",
      "Building wheels for collected packages: librosa, audioread, resampy\n",
      "  Running setup.py bdist_wheel for librosa ... \u001b[?25ldone\n",
      "\u001b[?25h  Stored in directory: /home/ubuntu/.cache/pip/wheels/18/b8/10/f0f8f6ac60668a5cd75596cf14c25bb6b3ea1ecd815f058b7e\n",
      "  Running setup.py bdist_wheel for audioread ... \u001b[?25ldone\n",
      "\u001b[?25h  Stored in directory: /home/ubuntu/.cache/pip/wheels/53/02/90/7b5c4081b7470c550ab605f600bad237dde12a6b8999b11f50\n",
      "  Running setup.py bdist_wheel for resampy ... \u001b[?25ldone\n",
      "\u001b[?25h  Stored in directory: /home/ubuntu/.cache/pip/wheels/ff/4f/ed/2e6c676c23efe5394bb40ade50662e90eb46e29b48324c5f9b\n",
      "Successfully built librosa audioread resampy\n",
      "\u001b[31mtwisted 18.7.0 requires PyHamcrest>=1.9.0, which is not installed.\u001b[0m\n",
      "Installing collected packages: audioread, joblib, resampy, librosa\n",
      "Successfully installed audioread-2.1.6 joblib-0.13.1 librosa-0.6.2 resampy-0.2.1\n",
      "\u001b[33mYou are using pip version 10.0.1, however version 19.0.1 is available.\n",
      "You should consider upgrading via the 'pip install --upgrade pip' command.\u001b[0m\n"
     ]
    }
   ],
   "source": [
    "!pip install librosa"
   ]
  },
  {
   "cell_type": "code",
   "execution_count": 70,
   "metadata": {},
   "outputs": [],
   "source": [
    "audio = '/home/ubuntu/UrbanSound8K/audio'\n",
    "folders = [\"fold1\",\"fold2\",\"fold3\",\"fold4\",\"fold5\",\"fold6\",\"fold7\",\"fold8\",\"fold9\",\"fold10\"]"
   ]
  },
  {
   "cell_type": "code",
   "execution_count": 81,
   "metadata": {},
   "outputs": [],
   "source": [
    "def get_audio_features(parent_dir, sub_dirs, file_ext=\"*.wav\"):\n",
    "    features = np.empty((0,66))\n",
    "    labels = []\n",
    "    folds = []\n",
    "    for idx, sub_dir in enumerate(sub_dirs):\n",
    "        print(sub_dir)\n",
    "        for file in glob.glob(os.path.join(parent_dir, sub_dir, file_ext)):\n",
    "            librosa_load, librosa_sampling_rate = librosa.load(file, mono=True)\n",
    "            stft = np.abs(librosa.stft(librosa_load))\n",
    "            mfcc_mean = np.mean(librosa.feature.mfcc(y=librosa_load, sr=librosa_sampling_rate, n_mfcc=13).T,axis=0)\n",
    "            print(len(mfcc_mean))\n",
    "            mfcc_std = np.std(librosa.feature.mfcc(y=librosa_load, sr=librosa_sampling_rate, n_mfcc=13).T,axis=0)\n",
    "            print(len(mfcc_std))\n",
    "            contrast_mean = np.mean(librosa.feature.spectral_contrast(S=stft, sr=librosa_sampling_rate).T,axis=0)\n",
    "            print(len(contrast_mean))\n",
    "            contrast_std = np.std(librosa.feature.spectral_contrast(S=stft, sr=librosa_sampling_rate).T,axis=0)\n",
    "            print(len(contrast_std))\n",
    "            chroma_mean = np.mean(librosa.feature.chroma_stft(S=stft, sr=librosa_sampling_rate).T,axis=0)\n",
    "            print(len(chroma_mean))\n",
    "            chroma_std = np.std(librosa.feature.chroma_stft(S=stft, sr=librosa_sampling_rate).T,axis=0)\n",
    "            print(len(chroma_std))\n",
    "            rolloff_mean = np.mean(librosa.feature.spectral_rolloff(S=stft, sr=librosa_sampling_rate).T,axis=0)\n",
    "            print(len(rolloff_mean))\n",
    "            rolloff_std = np.std(librosa.feature.spectral_rolloff(S=stft, sr=librosa_sampling_rate).T,axis=0)\n",
    "            print(len(rolloff_std))\n",
    "            feature_cols = np.hstack([mfcc_mean, mfcc_std, contrast_mean, contrast_std, \n",
    "                                      chroma_mean, chroma_std, rolloff_mean, rolloff_std])\n",
    "            features = np.vstack((features, feature_cols))\n",
    "            target = (file.split('/')[6].split('-')[1])\n",
    "            labels.append(int(target))\n",
    "            folds.append(sub_dir)\n",
    "            break\n",
    "        break\n",
    "    return features, labels, folds"
   ]
  },
  {
   "cell_type": "code",
   "execution_count": 82,
   "metadata": {},
   "outputs": [
    {
     "name": "stdout",
     "output_type": "stream",
     "text": [
      "fold1\n",
      "13\n",
      "13\n",
      "7\n",
      "7\n",
      "12\n",
      "12\n",
      "1\n",
      "1\n"
     ]
    }
   ],
   "source": [
    "features_test, labels_test, folds_test = get_audio_features(audio, folders)"
   ]
  },
  {
   "cell_type": "code",
   "execution_count": 72,
   "metadata": {},
   "outputs": [
    {
     "name": "stdout",
     "output_type": "stream",
     "text": [
      "fold1\n"
     ]
    },
    {
     "name": "stderr",
     "output_type": "stream",
     "text": [
      "/home/ubuntu/anaconda3/lib/python3.7/site-packages/librosa/core/pitch.py:145: UserWarning: Trying to estimate tuning from empty frequency set.\n",
      "  warnings.warn('Trying to estimate tuning from empty frequency set.')\n",
      "/home/ubuntu/anaconda3/lib/python3.7/site-packages/librosa/core/pitch.py:145: UserWarning: Trying to estimate tuning from empty frequency set.\n",
      "  warnings.warn('Trying to estimate tuning from empty frequency set.')\n",
      "/home/ubuntu/anaconda3/lib/python3.7/site-packages/librosa/core/pitch.py:145: UserWarning: Trying to estimate tuning from empty frequency set.\n",
      "  warnings.warn('Trying to estimate tuning from empty frequency set.')\n"
     ]
    },
    {
     "name": "stdout",
     "output_type": "stream",
     "text": [
      "fold2\n",
      "fold3\n",
      "fold4\n"
     ]
    },
    {
     "name": "stderr",
     "output_type": "stream",
     "text": [
      "/home/ubuntu/anaconda3/lib/python3.7/site-packages/librosa/core/pitch.py:145: UserWarning: Trying to estimate tuning from empty frequency set.\n",
      "  warnings.warn('Trying to estimate tuning from empty frequency set.')\n",
      "/home/ubuntu/anaconda3/lib/python3.7/site-packages/librosa/core/pitch.py:145: UserWarning: Trying to estimate tuning from empty frequency set.\n",
      "  warnings.warn('Trying to estimate tuning from empty frequency set.')\n"
     ]
    },
    {
     "name": "stdout",
     "output_type": "stream",
     "text": [
      "fold5\n",
      "fold6\n"
     ]
    },
    {
     "name": "stderr",
     "output_type": "stream",
     "text": [
      "/home/ubuntu/anaconda3/lib/python3.7/site-packages/librosa/core/pitch.py:145: UserWarning: Trying to estimate tuning from empty frequency set.\n",
      "  warnings.warn('Trying to estimate tuning from empty frequency set.')\n",
      "/home/ubuntu/anaconda3/lib/python3.7/site-packages/librosa/core/pitch.py:145: UserWarning: Trying to estimate tuning from empty frequency set.\n",
      "  warnings.warn('Trying to estimate tuning from empty frequency set.')\n"
     ]
    },
    {
     "name": "stdout",
     "output_type": "stream",
     "text": [
      "fold7\n"
     ]
    },
    {
     "name": "stderr",
     "output_type": "stream",
     "text": [
      "/home/ubuntu/anaconda3/lib/python3.7/site-packages/librosa/core/pitch.py:145: UserWarning: Trying to estimate tuning from empty frequency set.\n",
      "  warnings.warn('Trying to estimate tuning from empty frequency set.')\n",
      "/home/ubuntu/anaconda3/lib/python3.7/site-packages/librosa/core/pitch.py:145: UserWarning: Trying to estimate tuning from empty frequency set.\n",
      "  warnings.warn('Trying to estimate tuning from empty frequency set.')\n",
      "/home/ubuntu/anaconda3/lib/python3.7/site-packages/librosa/core/pitch.py:145: UserWarning: Trying to estimate tuning from empty frequency set.\n",
      "  warnings.warn('Trying to estimate tuning from empty frequency set.')\n",
      "/home/ubuntu/anaconda3/lib/python3.7/site-packages/librosa/core/pitch.py:145: UserWarning: Trying to estimate tuning from empty frequency set.\n",
      "  warnings.warn('Trying to estimate tuning from empty frequency set.')\n"
     ]
    },
    {
     "name": "stdout",
     "output_type": "stream",
     "text": [
      "fold8\n",
      "fold9\n",
      "fold10\n",
      "done\n"
     ]
    }
   ],
   "source": [
    "import pickle\n",
    "\n",
    "features, labels, folds = get_audio_features(audio, folders)\n",
    "print('done')\n",
    "np.savetxt(\"features.csv\", features, delimiter=\",\")\n",
    "with open('labels.pkl', 'wb') as f:\n",
    "    pickle.dump(labels, f)\n",
    "with open('folds.pkl', 'wb') as f:\n",
    "    pickle.dump(folds, f)"
   ]
  },
  {
   "cell_type": "code",
   "execution_count": 74,
   "metadata": {},
   "outputs": [],
   "source": [
    "with open('folds.pkl', 'rb') as f:\n",
    "    folds = pickle.load(f)"
   ]
  },
  {
   "cell_type": "code",
   "execution_count": 76,
   "metadata": {},
   "outputs": [],
   "source": [
    "with open('labels.pkl', 'rb') as f:\n",
    "    labels = pickle.load(f)"
   ]
  },
  {
   "cell_type": "code",
   "execution_count": 83,
   "metadata": {},
   "outputs": [],
   "source": [
    "col_list = []\n",
    "for i in range(1, 14):\n",
    "    col_list.append('mfcc_mean' + str(i))\n",
    "for i in range(1, 14):\n",
    "    col_list.append('mfcc_std' + str(i))\n",
    "for i in range(1, 8):\n",
    "    col_list.append('contrast_mean' + str(i))\n",
    "for i in range(1, 8):\n",
    "    col_list.append('contrast_std' + str(i))\n",
    "for i in range(1, 13):\n",
    "    col_list.append('chroma_mean' + str(i))\n",
    "for i in range(1, 13):\n",
    "    col_list.append('chroma_std' + str(i))\n",
    "col_list.append('rolloff_mean')\n",
    "col_list.append('rolloff_std')"
   ]
  },
  {
   "cell_type": "code",
   "execution_count": 84,
   "metadata": {},
   "outputs": [
    {
     "data": {
      "text/plain": [
       "66"
      ]
     },
     "execution_count": 84,
     "metadata": {},
     "output_type": "execute_result"
    }
   ],
   "source": [
    "len(col_list)"
   ]
  },
  {
   "cell_type": "code",
   "execution_count": 86,
   "metadata": {},
   "outputs": [],
   "source": [
    "df = pd.read_csv('./features.csv', names=col_list)"
   ]
  },
  {
   "cell_type": "code",
   "execution_count": 87,
   "metadata": {},
   "outputs": [
    {
     "data": {
      "text/html": [
       "<div>\n",
       "<style scoped>\n",
       "    .dataframe tbody tr th:only-of-type {\n",
       "        vertical-align: middle;\n",
       "    }\n",
       "\n",
       "    .dataframe tbody tr th {\n",
       "        vertical-align: top;\n",
       "    }\n",
       "\n",
       "    .dataframe thead th {\n",
       "        text-align: right;\n",
       "    }\n",
       "</style>\n",
       "<table border=\"1\" class=\"dataframe\">\n",
       "  <thead>\n",
       "    <tr style=\"text-align: right;\">\n",
       "      <th></th>\n",
       "      <th>mfcc_mean1</th>\n",
       "      <th>mfcc_mean2</th>\n",
       "      <th>mfcc_mean3</th>\n",
       "      <th>mfcc_mean4</th>\n",
       "      <th>mfcc_mean5</th>\n",
       "      <th>mfcc_mean6</th>\n",
       "      <th>mfcc_mean7</th>\n",
       "      <th>mfcc_mean8</th>\n",
       "      <th>mfcc_mean9</th>\n",
       "      <th>mfcc_mean10</th>\n",
       "      <th>...</th>\n",
       "      <th>chroma_std5</th>\n",
       "      <th>chroma_std6</th>\n",
       "      <th>chroma_std7</th>\n",
       "      <th>chroma_std8</th>\n",
       "      <th>chroma_std9</th>\n",
       "      <th>chroma_std10</th>\n",
       "      <th>chroma_std11</th>\n",
       "      <th>chroma_std12</th>\n",
       "      <th>rolloff_mean</th>\n",
       "      <th>rolloff_std</th>\n",
       "    </tr>\n",
       "  </thead>\n",
       "  <tbody>\n",
       "    <tr>\n",
       "      <th>0</th>\n",
       "      <td>-131.953600</td>\n",
       "      <td>100.331800</td>\n",
       "      <td>-136.209613</td>\n",
       "      <td>59.544095</td>\n",
       "      <td>-41.002218</td>\n",
       "      <td>18.666155</td>\n",
       "      <td>-29.881801</td>\n",
       "      <td>7.720259</td>\n",
       "      <td>-13.521617</td>\n",
       "      <td>-2.472400</td>\n",
       "      <td>...</td>\n",
       "      <td>0.089103</td>\n",
       "      <td>0.109890</td>\n",
       "      <td>0.082744</td>\n",
       "      <td>0.086488</td>\n",
       "      <td>0.103079</td>\n",
       "      <td>0.091772</td>\n",
       "      <td>0.083112</td>\n",
       "      <td>0.087800</td>\n",
       "      <td>4190.474661</td>\n",
       "      <td>789.164506</td>\n",
       "    </tr>\n",
       "    <tr>\n",
       "      <th>1</th>\n",
       "      <td>-212.984794</td>\n",
       "      <td>113.986069</td>\n",
       "      <td>-27.193258</td>\n",
       "      <td>22.607542</td>\n",
       "      <td>0.675223</td>\n",
       "      <td>4.756774</td>\n",
       "      <td>15.624546</td>\n",
       "      <td>15.003598</td>\n",
       "      <td>12.439341</td>\n",
       "      <td>11.358548</td>\n",
       "      <td>...</td>\n",
       "      <td>0.215491</td>\n",
       "      <td>0.213123</td>\n",
       "      <td>0.235415</td>\n",
       "      <td>0.252663</td>\n",
       "      <td>0.193080</td>\n",
       "      <td>0.210450</td>\n",
       "      <td>0.206592</td>\n",
       "      <td>0.201269</td>\n",
       "      <td>3779.575026</td>\n",
       "      <td>698.880879</td>\n",
       "    </tr>\n",
       "    <tr>\n",
       "      <th>2</th>\n",
       "      <td>-58.958201</td>\n",
       "      <td>87.640273</td>\n",
       "      <td>-70.350945</td>\n",
       "      <td>-2.818272</td>\n",
       "      <td>-22.161617</td>\n",
       "      <td>-7.152818</td>\n",
       "      <td>-19.660093</td>\n",
       "      <td>-5.150989</td>\n",
       "      <td>-23.104785</td>\n",
       "      <td>-5.124065</td>\n",
       "      <td>...</td>\n",
       "      <td>0.136032</td>\n",
       "      <td>0.116193</td>\n",
       "      <td>0.122456</td>\n",
       "      <td>0.133950</td>\n",
       "      <td>0.129118</td>\n",
       "      <td>0.114089</td>\n",
       "      <td>0.124617</td>\n",
       "      <td>0.122561</td>\n",
       "      <td>4129.396225</td>\n",
       "      <td>773.733583</td>\n",
       "    </tr>\n",
       "    <tr>\n",
       "      <th>3</th>\n",
       "      <td>-365.765009</td>\n",
       "      <td>61.840576</td>\n",
       "      <td>8.505344</td>\n",
       "      <td>33.080384</td>\n",
       "      <td>6.873962</td>\n",
       "      <td>-5.327185</td>\n",
       "      <td>-3.849906</td>\n",
       "      <td>-5.238709</td>\n",
       "      <td>-4.314379</td>\n",
       "      <td>-4.959619</td>\n",
       "      <td>...</td>\n",
       "      <td>0.241239</td>\n",
       "      <td>0.240739</td>\n",
       "      <td>0.244525</td>\n",
       "      <td>0.233069</td>\n",
       "      <td>0.224638</td>\n",
       "      <td>0.231544</td>\n",
       "      <td>0.270749</td>\n",
       "      <td>0.263057</td>\n",
       "      <td>5021.219348</td>\n",
       "      <td>1082.168871</td>\n",
       "    </tr>\n",
       "    <tr>\n",
       "      <th>4</th>\n",
       "      <td>-84.870940</td>\n",
       "      <td>116.204518</td>\n",
       "      <td>-24.585843</td>\n",
       "      <td>9.107674</td>\n",
       "      <td>6.315533</td>\n",
       "      <td>3.426022</td>\n",
       "      <td>4.600642</td>\n",
       "      <td>4.316528</td>\n",
       "      <td>-0.700944</td>\n",
       "      <td>11.300272</td>\n",
       "      <td>...</td>\n",
       "      <td>0.100473</td>\n",
       "      <td>0.105146</td>\n",
       "      <td>0.112480</td>\n",
       "      <td>0.111136</td>\n",
       "      <td>0.099302</td>\n",
       "      <td>0.101390</td>\n",
       "      <td>0.095279</td>\n",
       "      <td>0.106619</td>\n",
       "      <td>3822.828136</td>\n",
       "      <td>411.186238</td>\n",
       "    </tr>\n",
       "  </tbody>\n",
       "</table>\n",
       "<p>5 rows × 66 columns</p>\n",
       "</div>"
      ],
      "text/plain": [
       "   mfcc_mean1  mfcc_mean2  mfcc_mean3  mfcc_mean4  mfcc_mean5  mfcc_mean6  \\\n",
       "0 -131.953600  100.331800 -136.209613   59.544095  -41.002218   18.666155   \n",
       "1 -212.984794  113.986069  -27.193258   22.607542    0.675223    4.756774   \n",
       "2  -58.958201   87.640273  -70.350945   -2.818272  -22.161617   -7.152818   \n",
       "3 -365.765009   61.840576    8.505344   33.080384    6.873962   -5.327185   \n",
       "4  -84.870940  116.204518  -24.585843    9.107674    6.315533    3.426022   \n",
       "\n",
       "   mfcc_mean7  mfcc_mean8  mfcc_mean9  mfcc_mean10     ...       chroma_std5  \\\n",
       "0  -29.881801    7.720259  -13.521617    -2.472400     ...          0.089103   \n",
       "1   15.624546   15.003598   12.439341    11.358548     ...          0.215491   \n",
       "2  -19.660093   -5.150989  -23.104785    -5.124065     ...          0.136032   \n",
       "3   -3.849906   -5.238709   -4.314379    -4.959619     ...          0.241239   \n",
       "4    4.600642    4.316528   -0.700944    11.300272     ...          0.100473   \n",
       "\n",
       "   chroma_std6  chroma_std7  chroma_std8  chroma_std9  chroma_std10  \\\n",
       "0     0.109890     0.082744     0.086488     0.103079      0.091772   \n",
       "1     0.213123     0.235415     0.252663     0.193080      0.210450   \n",
       "2     0.116193     0.122456     0.133950     0.129118      0.114089   \n",
       "3     0.240739     0.244525     0.233069     0.224638      0.231544   \n",
       "4     0.105146     0.112480     0.111136     0.099302      0.101390   \n",
       "\n",
       "   chroma_std11  chroma_std12  rolloff_mean  rolloff_std  \n",
       "0      0.083112      0.087800   4190.474661   789.164506  \n",
       "1      0.206592      0.201269   3779.575026   698.880879  \n",
       "2      0.124617      0.122561   4129.396225   773.733583  \n",
       "3      0.270749      0.263057   5021.219348  1082.168871  \n",
       "4      0.095279      0.106619   3822.828136   411.186238  \n",
       "\n",
       "[5 rows x 66 columns]"
      ]
     },
     "execution_count": 87,
     "metadata": {},
     "output_type": "execute_result"
    }
   ],
   "source": [
    "df.head()"
   ]
  },
  {
   "cell_type": "code",
   "execution_count": 88,
   "metadata": {},
   "outputs": [],
   "source": [
    "sr_labels = pd.Series(labels)"
   ]
  },
  {
   "cell_type": "code",
   "execution_count": 90,
   "metadata": {},
   "outputs": [],
   "source": [
    "df['label'] = sr_labels"
   ]
  },
  {
   "cell_type": "code",
   "execution_count": 92,
   "metadata": {},
   "outputs": [],
   "source": [
    "sr_folds = pd.Series(folds)"
   ]
  },
  {
   "cell_type": "code",
   "execution_count": 93,
   "metadata": {},
   "outputs": [],
   "source": [
    "df['fold'] = sr_folds"
   ]
  },
  {
   "cell_type": "code",
   "execution_count": 94,
   "metadata": {},
   "outputs": [
    {
     "data": {
      "text/html": [
       "<div>\n",
       "<style scoped>\n",
       "    .dataframe tbody tr th:only-of-type {\n",
       "        vertical-align: middle;\n",
       "    }\n",
       "\n",
       "    .dataframe tbody tr th {\n",
       "        vertical-align: top;\n",
       "    }\n",
       "\n",
       "    .dataframe thead th {\n",
       "        text-align: right;\n",
       "    }\n",
       "</style>\n",
       "<table border=\"1\" class=\"dataframe\">\n",
       "  <thead>\n",
       "    <tr style=\"text-align: right;\">\n",
       "      <th></th>\n",
       "      <th>mfcc_mean1</th>\n",
       "      <th>mfcc_mean2</th>\n",
       "      <th>mfcc_mean3</th>\n",
       "      <th>mfcc_mean4</th>\n",
       "      <th>mfcc_mean5</th>\n",
       "      <th>mfcc_mean6</th>\n",
       "      <th>mfcc_mean7</th>\n",
       "      <th>mfcc_mean8</th>\n",
       "      <th>mfcc_mean9</th>\n",
       "      <th>mfcc_mean10</th>\n",
       "      <th>...</th>\n",
       "      <th>chroma_std7</th>\n",
       "      <th>chroma_std8</th>\n",
       "      <th>chroma_std9</th>\n",
       "      <th>chroma_std10</th>\n",
       "      <th>chroma_std11</th>\n",
       "      <th>chroma_std12</th>\n",
       "      <th>rolloff_mean</th>\n",
       "      <th>rolloff_std</th>\n",
       "      <th>label</th>\n",
       "      <th>fold</th>\n",
       "    </tr>\n",
       "  </thead>\n",
       "  <tbody>\n",
       "    <tr>\n",
       "      <th>0</th>\n",
       "      <td>-131.953600</td>\n",
       "      <td>100.331800</td>\n",
       "      <td>-136.209613</td>\n",
       "      <td>59.544095</td>\n",
       "      <td>-41.002218</td>\n",
       "      <td>18.666155</td>\n",
       "      <td>-29.881801</td>\n",
       "      <td>7.720259</td>\n",
       "      <td>-13.521617</td>\n",
       "      <td>-2.472400</td>\n",
       "      <td>...</td>\n",
       "      <td>0.082744</td>\n",
       "      <td>0.086488</td>\n",
       "      <td>0.103079</td>\n",
       "      <td>0.091772</td>\n",
       "      <td>0.083112</td>\n",
       "      <td>0.087800</td>\n",
       "      <td>4190.474661</td>\n",
       "      <td>789.164506</td>\n",
       "      <td>6</td>\n",
       "      <td>fold1</td>\n",
       "    </tr>\n",
       "    <tr>\n",
       "      <th>1</th>\n",
       "      <td>-212.984794</td>\n",
       "      <td>113.986069</td>\n",
       "      <td>-27.193258</td>\n",
       "      <td>22.607542</td>\n",
       "      <td>0.675223</td>\n",
       "      <td>4.756774</td>\n",
       "      <td>15.624546</td>\n",
       "      <td>15.003598</td>\n",
       "      <td>12.439341</td>\n",
       "      <td>11.358548</td>\n",
       "      <td>...</td>\n",
       "      <td>0.235415</td>\n",
       "      <td>0.252663</td>\n",
       "      <td>0.193080</td>\n",
       "      <td>0.210450</td>\n",
       "      <td>0.206592</td>\n",
       "      <td>0.201269</td>\n",
       "      <td>3779.575026</td>\n",
       "      <td>698.880879</td>\n",
       "      <td>2</td>\n",
       "      <td>fold1</td>\n",
       "    </tr>\n",
       "    <tr>\n",
       "      <th>2</th>\n",
       "      <td>-58.958201</td>\n",
       "      <td>87.640273</td>\n",
       "      <td>-70.350945</td>\n",
       "      <td>-2.818272</td>\n",
       "      <td>-22.161617</td>\n",
       "      <td>-7.152818</td>\n",
       "      <td>-19.660093</td>\n",
       "      <td>-5.150989</td>\n",
       "      <td>-23.104785</td>\n",
       "      <td>-5.124065</td>\n",
       "      <td>...</td>\n",
       "      <td>0.122456</td>\n",
       "      <td>0.133950</td>\n",
       "      <td>0.129118</td>\n",
       "      <td>0.114089</td>\n",
       "      <td>0.124617</td>\n",
       "      <td>0.122561</td>\n",
       "      <td>4129.396225</td>\n",
       "      <td>773.733583</td>\n",
       "      <td>4</td>\n",
       "      <td>fold1</td>\n",
       "    </tr>\n",
       "    <tr>\n",
       "      <th>3</th>\n",
       "      <td>-365.765009</td>\n",
       "      <td>61.840576</td>\n",
       "      <td>8.505344</td>\n",
       "      <td>33.080384</td>\n",
       "      <td>6.873962</td>\n",
       "      <td>-5.327185</td>\n",
       "      <td>-3.849906</td>\n",
       "      <td>-5.238709</td>\n",
       "      <td>-4.314379</td>\n",
       "      <td>-4.959619</td>\n",
       "      <td>...</td>\n",
       "      <td>0.244525</td>\n",
       "      <td>0.233069</td>\n",
       "      <td>0.224638</td>\n",
       "      <td>0.231544</td>\n",
       "      <td>0.270749</td>\n",
       "      <td>0.263057</td>\n",
       "      <td>5021.219348</td>\n",
       "      <td>1082.168871</td>\n",
       "      <td>2</td>\n",
       "      <td>fold1</td>\n",
       "    </tr>\n",
       "    <tr>\n",
       "      <th>4</th>\n",
       "      <td>-84.870940</td>\n",
       "      <td>116.204518</td>\n",
       "      <td>-24.585843</td>\n",
       "      <td>9.107674</td>\n",
       "      <td>6.315533</td>\n",
       "      <td>3.426022</td>\n",
       "      <td>4.600642</td>\n",
       "      <td>4.316528</td>\n",
       "      <td>-0.700944</td>\n",
       "      <td>11.300272</td>\n",
       "      <td>...</td>\n",
       "      <td>0.112480</td>\n",
       "      <td>0.111136</td>\n",
       "      <td>0.099302</td>\n",
       "      <td>0.101390</td>\n",
       "      <td>0.095279</td>\n",
       "      <td>0.106619</td>\n",
       "      <td>3822.828136</td>\n",
       "      <td>411.186238</td>\n",
       "      <td>7</td>\n",
       "      <td>fold1</td>\n",
       "    </tr>\n",
       "  </tbody>\n",
       "</table>\n",
       "<p>5 rows × 68 columns</p>\n",
       "</div>"
      ],
      "text/plain": [
       "   mfcc_mean1  mfcc_mean2  mfcc_mean3  mfcc_mean4  mfcc_mean5  mfcc_mean6  \\\n",
       "0 -131.953600  100.331800 -136.209613   59.544095  -41.002218   18.666155   \n",
       "1 -212.984794  113.986069  -27.193258   22.607542    0.675223    4.756774   \n",
       "2  -58.958201   87.640273  -70.350945   -2.818272  -22.161617   -7.152818   \n",
       "3 -365.765009   61.840576    8.505344   33.080384    6.873962   -5.327185   \n",
       "4  -84.870940  116.204518  -24.585843    9.107674    6.315533    3.426022   \n",
       "\n",
       "   mfcc_mean7  mfcc_mean8  mfcc_mean9  mfcc_mean10  ...    chroma_std7  \\\n",
       "0  -29.881801    7.720259  -13.521617    -2.472400  ...       0.082744   \n",
       "1   15.624546   15.003598   12.439341    11.358548  ...       0.235415   \n",
       "2  -19.660093   -5.150989  -23.104785    -5.124065  ...       0.122456   \n",
       "3   -3.849906   -5.238709   -4.314379    -4.959619  ...       0.244525   \n",
       "4    4.600642    4.316528   -0.700944    11.300272  ...       0.112480   \n",
       "\n",
       "   chroma_std8  chroma_std9  chroma_std10  chroma_std11  chroma_std12  \\\n",
       "0     0.086488     0.103079      0.091772      0.083112      0.087800   \n",
       "1     0.252663     0.193080      0.210450      0.206592      0.201269   \n",
       "2     0.133950     0.129118      0.114089      0.124617      0.122561   \n",
       "3     0.233069     0.224638      0.231544      0.270749      0.263057   \n",
       "4     0.111136     0.099302      0.101390      0.095279      0.106619   \n",
       "\n",
       "   rolloff_mean  rolloff_std  label   fold  \n",
       "0   4190.474661   789.164506      6  fold1  \n",
       "1   3779.575026   698.880879      2  fold1  \n",
       "2   4129.396225   773.733583      4  fold1  \n",
       "3   5021.219348  1082.168871      2  fold1  \n",
       "4   3822.828136   411.186238      7  fold1  \n",
       "\n",
       "[5 rows x 68 columns]"
      ]
     },
     "execution_count": 94,
     "metadata": {},
     "output_type": "execute_result"
    }
   ],
   "source": [
    "df.head()"
   ]
  },
  {
   "cell_type": "code",
   "execution_count": 95,
   "metadata": {},
   "outputs": [],
   "source": [
    "with open('raw_df.pkl', 'wb') as f:\n",
    "    pickle.dump(df, f)"
   ]
  },
  {
   "cell_type": "markdown",
   "metadata": {},
   "source": []
  }
 ],
 "metadata": {
  "kernelspec": {
   "display_name": "Python 3",
   "language": "python",
   "name": "python3"
  },
  "language_info": {
   "codemirror_mode": {
    "name": "ipython",
    "version": 3
   },
   "file_extension": ".py",
   "mimetype": "text/x-python",
   "name": "python",
   "nbconvert_exporter": "python",
   "pygments_lexer": "ipython3",
   "version": "3.7.0"
  }
 },
 "nbformat": 4,
 "nbformat_minor": 2
}
